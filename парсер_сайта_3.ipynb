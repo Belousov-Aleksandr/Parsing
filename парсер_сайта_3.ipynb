{
 "cells": [
  {
   "cell_type": "code",
   "execution_count": null,
   "id": "9569e805",
   "metadata": {},
   "outputs": [],
   "source": [
    "import requests\n",
    "from bs4 import BeautifulSoup\n",
    "import time\n",
    "import urllib\n",
    "import pandas as pd\n",
    "import re\n",
    "import numpy as np"
   ]
  },
  {
   "cell_type": "code",
   "execution_count": null,
   "id": "ba54674e",
   "metadata": {},
   "outputs": [],
   "source": [
    "header = {'User-Agent': 'Mozilla/5.0 (Macintosh; Intel Mac OS X 10.15; rv:96.0) Gecko/20100101 Firefox/96.0'}\n",
    "session = requests.Session()\n",
    "link = 'https://www.e*****.**/user/login?current=user/login'\n",
    "data ={\n",
    "    \"name\": \"***@gmail.com\",\n",
    "    \"pass\": \"123456\",\n",
    "    \"form_build_id\": \"form-zlVz2TYHRYJInLL_LQtrthethtehA\",\n",
    "    \"form_id\": \"user_login\",\n",
    "    \"op\": \"Log+in\"\n",
    "}\n",
    "responce = session.post(link, data=data, headers=header)\n",
    "\n",
    "if responce.status_code != 200:\n",
    "    print(\"request denied\")\n",
    "else:\n",
    "    print(\"ok\")"
   ]
  },
  {
   "cell_type": "code",
   "execution_count": null,
   "id": "4d7efffe",
   "metadata": {},
   "outputs": [],
   "source": [
    "def get_html(url, params=None):\n",
    "    r = session.get(url, headers=header, params=params)\n",
    "    return r"
   ]
  },
  {
   "cell_type": "code",
   "execution_count": null,
   "id": "b9cb2608",
   "metadata": {},
   "outputs": [],
   "source": [
    "# проверка правильности авторизации\n",
    "url = 'https://www.e*******.**/account'\n",
    "response = get_html(url)\n",
    "soup = BeautifulSoup(response.text, 'lxml')\n",
    "tag_element = soup.find(\"input\", id = \"edit-mail\")\n",
    "print(tag_element.get('value'))\n",
    "assert(tag_element.get('value') == data['name']), 'Autorization Error'"
   ]
  },
  {
   "cell_type": "code",
   "execution_count": null,
   "id": "315d31be",
   "metadata": {
    "scrolled": true
   },
   "outputs": [],
   "source": [
    "# проверка правильности выбранной страны\n",
    "HOST = 'https://www.e*******.**/scholarship'\n",
    "response = get_html(HOST)\n",
    "soup = BeautifulSoup(response.text, 'lxml')\n",
    "tag_element = soup.find(\"div\", id = \"overview\").p.text.split()\n",
    "print(tag_element[1] + str(' ') + tag_element[2])"
   ]
  },
  {
   "cell_type": "code",
   "execution_count": null,
   "id": "cc97b607",
   "metadata": {
    "scrolled": true
   },
   "outputs": [],
   "source": [
    "FQDN = 'https://www.e*******.**/'\n",
    "HOST = 'https://www.e********.**/scholarship/home'\n",
    "response = get_html(HOST)\n",
    "soup = BeautifulSoup(response.text, 'lxml')\n",
    "rez = soup.tbody"
   ]
  },
  {
   "cell_type": "code",
   "execution_count": null,
   "id": "2bb07dae",
   "metadata": {},
   "outputs": [],
   "source": [
    "df = pd.DataFrame()\n",
    "name = []\n",
    "url = []\n",
    "span = []\n",
    "web_site = []\n",
    "description = []\n",
    "requirements = []\n",
    "deadline=[]\n",
    "\n",
    "for tag in rez.find_all(['a']):\n",
    "    if tag.text != ' ':\n",
    "        name.append(tag.text)\n",
    "        url.append(FQDN + tag.get('href'))\n",
    "        \n",
    "        soup_ext = BeautifulSoup(get_html(url[-1]).text, 'lxml') # страница с детализацией  каждого курса\n",
    "\n",
    "        # адреса вебсайтов URL\n",
    "        web_site.append(soup_ext.find(\"div\",\n",
    "                                       class_='field field-name-field-website field-type-link-field field-label-inline clearfix').find('a').get('href'))\n",
    "        \n",
    "\n",
    "        # поля с описанием и требованиями курса. Не везде установлены теги 'p'   \n",
    "        for e in soup_ext.find_all('div', class_='field-item even'):\n",
    "            if e.find('h3') and e.find('p'): \n",
    "                description.append(e.find_all('p')[0].text)\n",
    "                requirements.append(e.find_all('p')[1].text)\n",
    "            elif e.find('h3') and not e.find('p'):\n",
    "                description.append(e.text.split('\\n')[1])\n",
    "                requirements.append(e.text.split('\\n')[3])\n",
    "        \n",
    "        # поле с дедлайнами\n",
    "        for elem in soup_ext.find_all('fieldset', class_='details-deadlines'):\n",
    "            if re.search('\\d+', str(elem)) is not None:\n",
    "                value = re.sub('[^\\d\\.]', '', str(elem))\n",
    "                if 11 < len(value) < 18:\n",
    "                    deadline.append(value[:5]+', '+value[6:11])\n",
    "                elif 17 < len(value) < 24:\n",
    "                    deadline.append(value[:5]+', '+value[6:11]+', '+value[12:17])\n",
    "                elif 23 < len(value) < 30:\n",
    "                    deadline.append(value[:5]+', '+value[6:11]+', '+value[12:17]+', '+value[18:23])\n",
    "                elif len(value) < 7:\n",
    "                    deadline.append(value[:5])\n",
    "                else:\n",
    "                    deadline.append(value)\n",
    "            else:\n",
    "                deadline.append(np.nan)\n",
    "                \n",
    "\n",
    "for tag in rez.find_all('span'):\n",
    "    span.append(tag.text)\n",
    "\n",
    "df['course_name'] = name\n",
    "df['url'] = url\n",
    "df['institution'] = span[1::4]\n",
    "df['amount'] = span[2::4]\n",
    "df['web_site'] = web_site\n",
    "df['description'] = description\n",
    "df['requirements'] = requirements\n",
    "df['deadline'] = deadline\n",
    "df"
   ]
  },
  {
   "cell_type": "code",
   "execution_count": null,
   "id": "c0d0d0d3",
   "metadata": {},
   "outputs": [],
   "source": [
    "with pd.ExcelWriter('*******.xlsx') as writer:  \n",
    "    df.to_excel(writer, sheet_name='UK')"
   ]
  }
 ],
 "metadata": {
  "kernelspec": {
   "display_name": "Python 3",
   "language": "python",
   "name": "python3"
  },
  "language_info": {
   "codemirror_mode": {
    "name": "ipython",
    "version": 3
   },
   "file_extension": ".py",
   "mimetype": "text/x-python",
   "name": "python",
   "nbconvert_exporter": "python",
   "pygments_lexer": "ipython3",
   "version": "3.8.8"
  }
 },
 "nbformat": 4,
 "nbformat_minor": 5
}
