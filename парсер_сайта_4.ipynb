{
 "cells": [
  {
   "cell_type": "code",
   "execution_count": null,
   "id": "e4e3aaf5",
   "metadata": {},
   "outputs": [],
   "source": [
    "from selenium import webdriver\n",
    "from selenium.webdriver.common.by import By\n",
    "import pandas as pd\n",
    "from datetime import date, datetime\n",
    "import time\n",
    "import re\n",
    "import os\n",
    "from IPython.display import clear_output\n",
    "import sys\n",
    "\n",
    "driver = webdriver.Firefox()\n",
    "base_page = 'https://r*******.**'\n",
    "driver.maximize_window()"
   ]
  },
  {
   "cell_type": "code",
   "execution_count": null,
   "id": "e5bf7696",
   "metadata": {},
   "outputs": [],
   "source": [
    "start_period = date.fromisoformat('2022-01-01') # year-month-day"
   ]
  },
  {
   "cell_type": "code",
   "execution_count": null,
   "id": "683f1878",
   "metadata": {},
   "outputs": [],
   "source": [
    "def flatten(L: list) -> list:\n",
    "    if len(L) > sys.getrecursionlimit():\n",
    "        sys.setrecursionlimit(len(L)*10)\n",
    "    if L == []:\n",
    "        return L\n",
    "    if isinstance(L[0], list):\n",
    "        return flatten(L[0]) + flatten(L[1:])\n",
    "    rez = list(L[:1] + flatten(L[1:]))\n",
    "    return rez\n",
    "\n",
    "PAUSE_TIME = 6"
   ]
  },
  {
   "cell_type": "code",
   "execution_count": null,
   "id": "7d49d94f",
   "metadata": {},
   "outputs": [],
   "source": [
    "base_page = 'https://r********.**/ranges'\n",
    "driver.get(base_page)\n",
    "time.sleep(PAUSE_TIME)\n",
    "\n",
    "link_week = [e.get_attribute('href') for e in driver.find_elements(By.CLASS_NAME,'ml-4 > a')]\n",
    "link_week = list(dict.fromkeys(link_week)) # removing duplicate week-links\n",
    "start_date = [datetime.strptime(link[link.find('=') + 1:link.find('&')], '%d-%m-%y').date() for link in link_week]\n",
    "end_date = [datetime.strptime(link[link.find('end=') + 4:], '%d-%m-%y').date() for link in link_week]\n",
    "\n",
    "for date in zip(start_date, end_date):\n",
    "    if date[0] > start_period or date[0] <= start_period <= date[1]:\n",
    "        parse_list = link_week[start_date.index(date[0]):]\n",
    "        break\n",
    "    else:\n",
    "        parse_list = []"
   ]
  },
  {
   "cell_type": "code",
   "execution_count": null,
   "id": "02a9e0d3",
   "metadata": {},
   "outputs": [],
   "source": [
    "type_activity_final = []\n",
    "dates_final = []\n",
    "title_final = []\n",
    "detail_links_final = []\n",
    "source_links_final = []\n",
    "content_final = []\n",
    "\n",
    "for link in parse_list:\n",
    "    driver.get(link)\n",
    "    time.sleep(PAUSE_TIME)\n",
    "    type_activity = [elem.text for elem in driver.find_elements(By.TAG_NAME,'article > div > div > p')]\n",
    "    dates = [datetime.strptime(str(elem.text).split()[0] + '.' + str(datetime.now().date().year), '%d.%m.%Y').date() \n",
    "             for elem in driver.find_elements(By.TAG_NAME,'article > div > p')]\n",
    "    title = [elem.text for elem in driver.find_elements(By.TAG_NAME,'article > h1')]\n",
    "\n",
    "    detail_links = []\n",
    "    source_links = []\n",
    "    temp_list=[]\n",
    "    for elem in driver.find_elements(By.TAG_NAME,'body > div > div > main > section > article'):\n",
    "        for sub_elem in elem.find_elements(By.TAG_NAME,'div > a'):\n",
    "            temp_list.append(sub_elem.get_attribute('href'))\n",
    "        if len(temp_list) == 1:\n",
    "            temp_list.append('Нет источника')\n",
    "        detail_links.append(temp_list[0])\n",
    "        source_links.append(temp_list[1])\n",
    "        temp_list=[]\n",
    "\n",
    "    k = sum([True for date in dates if date >= start_period])\n",
    "    \n",
    "    for det_link in detail_links[:k]:\n",
    "        driver.get(det_link)\n",
    "        time.sleep(PAUSE_TIME)\n",
    "        content_final.append([elem.text for elem in driver.find_elements(By.TAG_NAME,'body > div > div > div > div > article > div > p')][:-2])\n",
    "    \n",
    "    \n",
    "    type_activity_final.extend(type_activity[:k])\n",
    "    dates_final.extend(dates[:k])\n",
    "    title_final.extend(title[:k])\n",
    "    detail_links_final.extend(detail_links[:k])\n",
    "    source_links_final.extend(source_links[:k])\n",
    "    \n",
    "    \n",
    "    assert(len(type_activity) == len(dates) == len(title) == len(detail_links) == len(source_links)), 'Assert Error'\n",
    "    assert(len(type_activity_final) == len(dates_final) == len(title_final) == len(detail_links_final) \\\n",
    "           == len(source_links_final) == len(content_final)), 'Assert Error'\n",
    "    \n",
    "    clear_output(wait=True)\n",
    "    print(len(type_activity_final), len(dates_final), len(title_final), len(detail_links_final), \\\n",
    "          len(source_links_final), len(content_final))"
   ]
  },
  {
   "cell_type": "code",
   "execution_count": null,
   "id": "0eac1b7d",
   "metadata": {},
   "outputs": [],
   "source": [
    "df = pd.DataFrame()\n",
    "\n",
    "df['Тип события'] = type_activity_final\n",
    "df['Дата события'] = dates_final\n",
    "df['Название'] = title_final\n",
    "df['Ссылка'] = detail_links_final\n",
    "df['Источник'] = source_links_final\n",
    "df['Контент'] = content_final\n",
    "\n",
    "for idx,_ in df.iterrows():\n",
    "    if type(df.iloc[idx]['Контент']) is list:\n",
    "        df.iloc[idx]['Контент'] = ', '.join(flatten(df.iloc[idx]['Контент']))\n",
    "df"
   ]
  },
  {
   "cell_type": "code",
   "execution_count": null,
   "id": "9bf65cb7",
   "metadata": {},
   "outputs": [],
   "source": [
    "file_name = base_page.split('/')[2].split('.')[0] + '_' + str(datetime.now().date()) + '.xlsx'\n",
    "with pd.ExcelWriter(file_name) as writer:\n",
    "    df.to_excel(writer, sheet_name='Лист1', index=False)"
   ]
  },
  {
   "cell_type": "code",
   "execution_count": null,
   "id": "bc66814f",
   "metadata": {},
   "outputs": [],
   "source": []
  }
 ],
 "metadata": {
  "kernelspec": {
   "display_name": "Python 3",
   "language": "python",
   "name": "python3"
  },
  "language_info": {
   "codemirror_mode": {
    "name": "ipython",
    "version": 3
   },
   "file_extension": ".py",
   "mimetype": "text/x-python",
   "name": "python",
   "nbconvert_exporter": "python",
   "pygments_lexer": "ipython3",
   "version": "3.8.8"
  }
 },
 "nbformat": 4,
 "nbformat_minor": 5
}
