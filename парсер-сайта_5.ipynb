{
 "cells": [
  {
   "cell_type": "code",
   "execution_count": null,
   "id": "e4e3aaf5",
   "metadata": {},
   "outputs": [],
   "source": [
    "import requests\n",
    "from bs4 import BeautifulSoup\n",
    "import pandas as pd\n",
    "import csv\n",
    "import sys\n",
    "from datetime import datetime, date\n",
    "import os\n",
    "from IPython.display import clear_output"
   ]
  },
  {
   "cell_type": "code",
   "execution_count": null,
   "id": "2eab5735",
   "metadata": {},
   "outputs": [],
   "source": [
    "header = {'User-Agent': 'Mozilla/5.0 (Macintosh; Intel Mac OS X 10.15; rv:96.0) Gecko/20100101 Firefox/96.0'}\n",
    "FQDN = 'https://www.o*********.**'\n",
    "responce = requests.get(FQDN)\n",
    "\n",
    "print(\"request denied\") if responce.status_code != 200 else print(\"ok\")"
   ]
  },
  {
   "cell_type": "code",
   "execution_count": null,
   "id": "0bb80ff5",
   "metadata": {},
   "outputs": [],
   "source": [
    "def get_html(url, params=None):\n",
    "    r = requests.get(url, headers=header, params=params)\n",
    "    return r"
   ]
  },
  {
   "cell_type": "markdown",
   "id": "58e74835",
   "metadata": {},
   "source": [
    "---"
   ]
  },
  {
   "cell_type": "code",
   "execution_count": null,
   "id": "a42d6e97",
   "metadata": {},
   "outputs": [],
   "source": [
    "page_url = 'https://www.o********.***'\n",
    "response = get_html(page_url)\n",
    "soup = BeautifulSoup(response.text, 'lxml')\n",
    "\n",
    "fqdn_urls = [FQDN + e.a.get('href') for e in soup.find_all('tr') if 'http' not in e.a.get('href')]\n",
    "titles = [e.a.text for e in soup.find_all('tr') if 'http' not in e.a.get('href')]\n",
    "destination = [e.text.split('   ')[0].strip() for e in soup.find_all('td')][2:][::2]\n",
    "source = [e.text for e in soup.find_all('div', class_='petitions-item-author')]\n",
    "dop_urls = [FQDN + '/' + url for url in str([e for e in soup.find_all('div', id='petition-sign')][0]).split('\"') if 'index2' in url]"
   ]
  },
  {
   "cell_type": "code",
   "execution_count": null,
   "id": "e8edfdb3",
   "metadata": {},
   "outputs": [],
   "source": [
    "for url in dop_urls:\n",
    "    response = get_html(url)\n",
    "    soup = BeautifulSoup(response.text, 'lxml')\n",
    "    dop_u = [FQDN + e.a.get('href') for e in soup.find_all('td') if e.a]\n",
    "    dop_t = [e.a.text for e in soup.find_all('td') if e.a]\n",
    "    dop_d = [e.text.split('   ')[0].strip() for e in soup.find_all('td')][::2]\n",
    "    dop_s= [e.text for e in soup.find_all('div', class_='petitions-item-author')]\n",
    "    fqdn_urls.extend(dop_u)\n",
    "    titles.extend(dop_t)\n",
    "    destination.extend(dop_d)\n",
    "    source.extend(dop_s)"
   ]
  },
  {
   "cell_type": "code",
   "execution_count": null,
   "id": "42b6becb",
   "metadata": {},
   "outputs": [],
   "source": [
    "content = []\n",
    "subscribers = []\n",
    "for url in fqdn_urls[:]:\n",
    "    clear_output(wait=True)\n",
    "    print(url)\n",
    "    print(len(subscribers), len(content))\n",
    "    response = get_html(url)\n",
    "    soup = BeautifulSoup(response.text, 'lxml')\n",
    "    text = ' '.join([e.text.split('\\n') for e in soup.find_all('div', class_='petition')][0][4:-2])\n",
    "    text = '. '.join(text.split('.')).replace('  ',' ')\n",
    "    try:\n",
    "        sign = [FQDN + e.a.get('href') for e in soup.find_all('p', class_='undersigned')][0]\n",
    "    except (IndexError):\n",
    "        sign = [FQDN + e.a.get('href') for e in soup.find_all('div', class_='petition')][0]\n",
    "    content.append(text)\n",
    "    response = get_html(sign)\n",
    "    soup = BeautifulSoup(response.text, 'lxml')\n",
    "    count = [str(e.strong) for e in soup.find_all('div', id = 'petition-sign')][1:2]\n",
    "    count = int(''.join(re.findall('\\d', count[0])))\n",
    "    subscribers.append(count)"
   ]
  },
  {
   "cell_type": "code",
   "execution_count": null,
   "id": "dcab11f9",
   "metadata": {},
   "outputs": [],
   "source": [
    "df = pd.DataFrame()\n",
    "df['Название'] = titles\n",
    "df['Адресат'] = destination\n",
    "df['Инициатор'] = source\n",
    "df['Контент'] = content\n",
    "df['Подписей'] = subscribers\n",
    "df['Ссылка'] = fqdn_urls\n",
    "df.head()"
   ]
  },
  {
   "cell_type": "code",
   "execution_count": null,
   "id": "eee5061f",
   "metadata": {},
   "outputs": [],
   "source": [
    "file_name = FQDN.split('/')[2].split('.')[1] + '_' + str(datetime.now().date()) + '.xlsx'\n",
    "with pd.ExcelWriter(file_name) as writer:\n",
    "    df.to_excel(writer, sheet_name='Лист1', index=False)"
   ]
  }
 ],
 "metadata": {
  "kernelspec": {
   "display_name": "Python 3",
   "language": "python",
   "name": "python3"
  },
  "language_info": {
   "codemirror_mode": {
    "name": "ipython",
    "version": 3
   },
   "file_extension": ".py",
   "mimetype": "text/x-python",
   "name": "python",
   "nbconvert_exporter": "python",
   "pygments_lexer": "ipython3",
   "version": "3.8.8"
  }
 },
 "nbformat": 4,
 "nbformat_minor": 5
}
