{
 "cells": [
  {
   "cell_type": "code",
   "execution_count": null,
   "id": "652417f3",
   "metadata": {},
   "outputs": [],
   "source": [
    "from selenium import webdriver\n",
    "from selenium.webdriver.common.by import By\n",
    "import pandas as pd\n",
    "import time\n",
    "\n",
    "driver = webdriver.Firefox()\n",
    "base_page = 'https://m******.**'\n",
    "\n",
    "driver.get(base_page)\n",
    "driver.maximize_window()"
   ]
  },
  {
   "cell_type": "code",
   "execution_count": null,
   "id": "3413c993",
   "metadata": {},
   "outputs": [],
   "source": [
    "# скроллинг до конца страницы\n",
    "SCROLL_PAUSE_TIME = 5\n",
    "\n",
    "# Get scroll height\n",
    "last_height = 0\n",
    "\n",
    "while True:\n",
    "    # Scroll down to bottom\n",
    "    driver.execute_script(\"window.scrollTo(0, document.body.scrollHeight);\")\n",
    "\n",
    "    # Wait to load page\n",
    "    time.sleep(SCROLL_PAUSE_TIME)\n",
    "\n",
    "    # Calculate new scroll height and compare with last scroll height\n",
    "    new_height = driver.execute_script(\"return document.body.scrollHeight\")\n",
    "    \n",
    "    if new_height == last_height:\n",
    "        break\n",
    "    last_height = new_height"
   ]
  },
  {
   "cell_type": "code",
   "execution_count": null,
   "id": "7e3d1f71",
   "metadata": {},
   "outputs": [],
   "source": [
    "# все заголовки статей на странице\n",
    "title_list = [item.text for item in driver.find_elements(By.CLASS_NAME, \"title\")]\n",
    "\n",
    "# ссылки для всех статей на странице    \n",
    "href_list=[item.get_attribute('href') for item in driver.find_elements(By.CLASS_NAME, \"content-inner > a\")]"
   ]
  },
  {
   "cell_type": "code",
   "execution_count": null,
   "id": "e44463cf",
   "metadata": {},
   "outputs": [],
   "source": [
    "df = pd.DataFrame()\n",
    "df['Название_статьи'] = title_list\n",
    "df['Ссылка_на_статью'] = href_list\n",
    "df"
   ]
  },
  {
   "cell_type": "code",
   "execution_count": null,
   "id": "8ddb5fe3",
   "metadata": {},
   "outputs": [],
   "source": [
    "# выгрузка категорий для каждой статьи\n",
    "idx = 0\n",
    "for item in driver.find_elements(By.CLASS_NAME, \"content-inner\"):\n",
    "    cat_url = []\n",
    "    cat_title = []\n",
    "    for element in item.find_elements(By.CLASS_NAME, \"article-content-wrap > span.meta-category > a\"):\n",
    "        cat_url.append(element.get_attribute('href'))\n",
    "        cat_title.append(element.get_attribute('text'))\n",
    "    count = 1\n",
    "    for elem in zip(cat_title, cat_url):\n",
    "        cat_name = str('Категория_') + str(count)\n",
    "        cat_url = str('Ссылка_на_категорию_') + str(count)\n",
    "        df.loc[idx,cat_name] = elem[0]\n",
    "        df.loc[idx,cat_url] = elem[1]\n",
    "        count+=1\n",
    "    idx+=1\n",
    "df.head(3)"
   ]
  },
  {
   "cell_type": "code",
   "execution_count": null,
   "id": "5fb5cb5d",
   "metadata": {
    "scrolled": true
   },
   "outputs": [],
   "source": [
    "# выгрузка тегов из каждой статьи\n",
    "idx = 0\n",
    "date_list = []\n",
    "for _, raw in df.iterrows():\n",
    "    driver.get(raw[1])\n",
    "    tag_name = []\n",
    "    tag_url = []\n",
    "    date_list.append(driver.find_elements(By.CLASS_NAME, \"meta-date\")[0].text)\n",
    "    \n",
    "    for item in driver.find_elements(By.CLASS_NAME, \"post-tags > a\"):\n",
    "        tag_name.append(item.text)\n",
    "        tag_url.append(item.get_attribute('href'))\n",
    "    count = 1\n",
    "    for elem in zip(tag_name, tag_url):\n",
    "        tag_n = str('tag_') + str(count)\n",
    "        tag_u = str('tag_') + str(count) + str('_url')\n",
    "        df.loc[idx,tag_n] = elem[0]\n",
    "        df.loc[idx,tag_u] = elem[1]\n",
    "        count+=1\n",
    "    idx+=1    \n",
    "    time.sleep(SCROLL_PAUSE_TIME)\n",
    "df['Дата'] = date_list\n",
    "df.head(3)"
   ]
  },
  {
   "cell_type": "code",
   "execution_count": null,
   "id": "3e86dce5",
   "metadata": {},
   "outputs": [],
   "source": [
    "cols = list(df)\n",
    "cols = cols[:2] +[cols[-1]] + cols[2:-1]\n",
    "df = df[cols]"
   ]
  },
  {
   "cell_type": "code",
   "execution_count": null,
   "id": "dfe7fdf9",
   "metadata": {},
   "outputs": [],
   "source": [
    "with pd.ExcelWriter('m********.xlsx') as writer:\n",
    "    df.to_excel(writer, sheet_name='Base')"
   ]
  },
  {
   "cell_type": "code",
   "execution_count": null,
   "id": "050e5883",
   "metadata": {},
   "outputs": [],
   "source": [
    "driver.close()"
   ]
  }
 ],
 "metadata": {
  "kernelspec": {
   "display_name": "Python 3",
   "language": "python",
   "name": "python3"
  },
  "language_info": {
   "codemirror_mode": {
    "name": "ipython",
    "version": 3
   },
   "file_extension": ".py",
   "mimetype": "text/x-python",
   "name": "python",
   "nbconvert_exporter": "python",
   "pygments_lexer": "ipython3",
   "version": "3.8.8"
  }
 },
 "nbformat": 4,
 "nbformat_minor": 5
}
