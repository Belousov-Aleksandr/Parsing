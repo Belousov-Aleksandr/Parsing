{
 "cells": [
  {
   "cell_type": "code",
   "execution_count": null,
   "id": "e4e3aaf5",
   "metadata": {},
   "outputs": [],
   "source": [
    "import requests\n",
    "from bs4 import BeautifulSoup\n",
    "import pandas as pd\n",
    "import csv\n",
    "import sys\n",
    "from datetime import datetime, date\n",
    "import os\n",
    "import re\n",
    "from IPython.display import clear_output"
   ]
  },
  {
   "cell_type": "code",
   "execution_count": null,
   "id": "2eab5735",
   "metadata": {},
   "outputs": [],
   "source": [
    "header = {'User-Agent': 'Mozilla/5.0 (Macintosh; Intel Mac OS X 10.15; rv:96.0) Gecko/20100101 Firefox/96.0'}\n",
    "FQDN = 'https://m*******.**/'\n",
    "responce = requests.get(FQDN)\n",
    "\n",
    "print(\"request denied\") if responce.status_code != 200 else print(\"ok\")"
   ]
  },
  {
   "cell_type": "code",
   "execution_count": null,
   "id": "0bb80ff5",
   "metadata": {},
   "outputs": [],
   "source": [
    "def get_html(url, params=None):\n",
    "    r = requests.get(url, headers=header, params=params)\n",
    "    return r"
   ]
  },
  {
   "cell_type": "code",
   "execution_count": null,
   "id": "77fffcd5",
   "metadata": {},
   "outputs": [],
   "source": [
    "def flatten(L: list) -> list:\n",
    "    '''рекурентное преобразование списка списков списков... в плоский одноранговый список'''\n",
    "    if len(L) > sys.getrecursionlimit():\n",
    "        sys.setrecursionlimit(len(L)*10)\n",
    "    if L == []:\n",
    "        return L\n",
    "    if isinstance(L[0], list):\n",
    "        return flatten(L[0]) + flatten(L[1:])\n",
    "    rez = list(L[:1] + flatten(L[1:]))\n",
    "    return rez"
   ]
  },
  {
   "cell_type": "code",
   "execution_count": null,
   "id": "fb6c207e",
   "metadata": {},
   "outputs": [],
   "source": [
    "def str_to_date(str_date: str) -> datetime.date:\n",
    "    '''принимает год/день/месяц ('22/20/04') , возвращает в формате datetime'''\n",
    "    temp_date = [d for d in str_date.split('/')]\n",
    "    temp_date.reverse()\n",
    "    temp_date = '-'.join(temp_date)\n",
    "    return date.fromisoformat(temp_date)"
   ]
  },
  {
   "cell_type": "code",
   "execution_count": null,
   "id": "ff9ba7d1",
   "metadata": {},
   "outputs": [],
   "source": [
    "def urls_on_page(page_url: str) -> list:\n",
    "    '''возвращает список дат и ссылок на статьи со страницы'''\n",
    "    response = get_html(page_url)\n",
    "    soup = BeautifulSoup(response.text, 'lxml')\n",
    "    short_urls = [e.a.get('href') for e in soup.find_all('h4', class_='news-item-title')]\n",
    "    fqdn_urls = ['/'.join(base_url.split('/')[:3]) + elem for elem in short_urls]\n",
    "    \n",
    "    return fqdn_urls"
   ]
  },
  {
   "cell_type": "code",
   "execution_count": null,
   "id": "0c639e34",
   "metadata": {},
   "outputs": [],
   "source": [
    "def flatten_column(df: pd.core.frame.DataFrame, column: str) -> pd.core.frame.DataFrame:\n",
    "    '''извлекает значения в ячейках датафрейма из списочного вида в текстовый'''\n",
    "\n",
    "    for idx in range(df.shape[0]):\n",
    "\n",
    "        if type(df.loc[idx,column]) is list:\n",
    "            df.loc[idx,column] = ', '.join(df.loc[idx,column]) if len(df.loc[idx,column]) > 0 else ''\n",
    "\n",
    "    return df"
   ]
  },
  {
   "cell_type": "code",
   "execution_count": null,
   "id": "faeba69c",
   "metadata": {},
   "outputs": [],
   "source": [
    "def read_conf(fqdn: str, start_id: int = 0, start_date: str = '2022-01-01'):\n",
    "    file_name = 'aggregator.ini'\n",
    "    domain = FQDN.split('/')[2]\n",
    "    start_date = date.fromisoformat(start_date)\n",
    "    if not os.path.exists(file_name):\n",
    "        open(file_name, 'x')\n",
    "    with open(file_name) as csv_file:\n",
    "        csv_reader = csv.reader(csv_file, delimiter=',')\n",
    "        for row in csv_reader:\n",
    "            if domain in row[0]:\n",
    "                try:\n",
    "                    start_date = date.fromisoformat(row[1])\n",
    "                except (ValueError):\n",
    "                    start_date = start_date\n",
    "                try:\n",
    "                    start_id = abs(int(float(row[2])))\n",
    "                except (ValueError):\n",
    "                    start_id = start_id\n",
    "                    \n",
    "    return start_date"
   ]
  },
  {
   "cell_type": "code",
   "execution_count": null,
   "id": "ba27d047",
   "metadata": {},
   "outputs": [],
   "source": [
    "def write_conf(fqdn: str, end_id: int = 0, end_date: str = str(datetime.now().date())):\n",
    "    domain = fqdn.split('/')[2]\n",
    "    \n",
    "    file_name = 'aggregator.ini'\n",
    "    fin = open(file_name, \"rt\")\n",
    "    data = fin.read()\n",
    "    domain_list = []\n",
    "    for elem in data.split('\\n'):\n",
    "        domain_list.append(elem.split(',')[0])\n",
    "        if elem.split(',')[0] == domain:\n",
    "            data = data.replace(domain + ',' + elem.split(',')[1] +',' + elem.split(',')[2], \n",
    "                                domain + ',' + end_date + ',' + str(end_id))\n",
    "            break\n",
    "    \n",
    "    new_row = domain + ',' + end_date + ',' + str(end_id)\n",
    "    if domain not in domain_list:\n",
    "        data += new_row if len(domain_list[0]) == 0 else '\\n' + new_row\n",
    "\n",
    "    fin.close()\n",
    "    fin = open(file_name, \"wt\")\n",
    "    fin.write(data)\n",
    "    fin.close()"
   ]
  },
  {
   "cell_type": "code",
   "execution_count": null,
   "id": "6f602610",
   "metadata": {},
   "outputs": [],
   "source": [
    "month_list = ['января', 'февраля', 'марта', 'апреля', 'мая', 'июня',\n",
    "           'июля', 'августа', 'сентября', 'октября', 'ноября', 'декабря']"
   ]
  },
  {
   "cell_type": "code",
   "execution_count": null,
   "id": "ba13cbd0",
   "metadata": {},
   "outputs": [],
   "source": [
    "start_date = read_conf(FQDN) #, start_date = '2022-02-23')\n",
    "start_date"
   ]
  },
  {
   "cell_type": "markdown",
   "id": "58e74835",
   "metadata": {},
   "source": [
    "---"
   ]
  },
  {
   "cell_type": "markdown",
   "id": "bb6cbbdd",
   "metadata": {},
   "source": [
    "###### Раздел \"Новости\""
   ]
  },
  {
   "cell_type": "code",
   "execution_count": null,
   "id": "a3b4053e",
   "metadata": {},
   "outputs": [],
   "source": [
    "base_url = 'https://m*******.**/press-center/news/?SECTION_ID=&arrFilter_ff%5BNAME%5D=&arrFilter_DATE_ACTIVE_FROM_1=&arrFilter_DATE_ACTIVE_FROM_2=' \\\n",
    "+ datetime.now().date().strftime(\"%d-%m-%Y\").replace('-','.') + '&set_filter=поиск&PAGEN_1='\n",
    "start_page = base_url + str(1)"
   ]
  },
  {
   "cell_type": "code",
   "execution_count": null,
   "id": "67549ae4",
   "metadata": {},
   "outputs": [],
   "source": [
    "dates=[]\n",
    "urls=[]\n",
    "uop = urls_on_page(start_page) # все новостные ссылки с первой разводящей страницы\n",
    "urls.extend(uop)\n",
    "for page_url in uop:\n",
    "    response = get_html(page_url)\n",
    "    soup = BeautifulSoup(response.text, 'lxml')\n",
    "    for e in soup.find_all('div', class_='post-date'):\n",
    "        day = e.text.strip().split(',')[0].split(' ')[0]\n",
    "        month = str(month_list.index(e.text.strip().split(',')[0].split(' ')[1]) + 1)\n",
    "        if len(month) < 2:\n",
    "            month = '0' + month\n",
    "        if len(day) < 2:\n",
    "            day = '0' + day\n",
    "        year = e.text.strip().split(',')[0].split(' ')[2].split('\\n')[0]\n",
    "        dates.append(day + '/' + month + '/' + year)\n",
    "        break"
   ]
  },
  {
   "cell_type": "code",
   "execution_count": null,
   "id": "594fb9cb",
   "metadata": {},
   "outputs": [],
   "source": [
    "count=1\n",
    "while str_to_date(dates[-1]) > start_date:\n",
    "    count += 1\n",
    "    next_page = base_url + str(count)\n",
    "    uop = urls_on_page(next_page)\n",
    "    urls.extend(uop)\n",
    "    for page_url in uop:\n",
    "        response = get_html(page_url)\n",
    "        soup = BeautifulSoup(response.text, 'lxml')\n",
    "        for e in soup.find_all('div', class_='post-date'):\n",
    "            day = e.text.strip().split(',')[0].split(' ')[0]\n",
    "            month = str(month_list.index(e.text.strip().split(',')[0].split(' ')[1]) + 1)\n",
    "            if len(month) < 2:\n",
    "                month = '0' + month\n",
    "            if len(day) < 2:\n",
    "                day = '0' + day\n",
    "            year = e.text.strip().split(',')[0].split(' ')[2].split('\\n')[0]\n",
    "            clear_output(wait=True)  \n",
    "            print(day + '/' + month + '/' + year)\n",
    "            dates.append(day + '/' + month + '/' + year)\n",
    "            break\n",
    "# Количество новых статей с даты последнего запуска агрегатора\n",
    "news_sum = sum([True for date_news in dates if str_to_date(date_news) > start_date])\n",
    "\n",
    "print(f'С даты последнего запуска агрегатора [{start_date}] опубликовано {news_sum} статей.')"
   ]
  },
  {
   "cell_type": "code",
   "execution_count": null,
   "id": "70a056cb",
   "metadata": {},
   "outputs": [],
   "source": [
    "titles=[]\n",
    "for page_url in urls[:news_sum]:\n",
    "    response = get_html(page_url)\n",
    "    soup = BeautifulSoup(response.text, 'lxml')\n",
    "    titles.append([e for e in soup.find('h1')][0])"
   ]
  },
  {
   "cell_type": "code",
   "execution_count": null,
   "id": "9f2780ca",
   "metadata": {},
   "outputs": [],
   "source": [
    "from selenium import webdriver\n",
    "from selenium.webdriver.common.by import By\n",
    "driver = webdriver.Firefox()"
   ]
  },
  {
   "cell_type": "code",
   "execution_count": null,
   "id": "0cb4ff39",
   "metadata": {},
   "outputs": [],
   "source": [
    "content = []\n",
    "ext_urls = []\n",
    "uop = []\n",
    "\n",
    "for url in urls[:news_sum]:\n",
    "    driver.get(url)\n",
    "    for item in driver.find_elements(By.CLASS_NAME, 'post-body'):\n",
    "        post_body = item.text\n",
    "    for footer in driver.find_elements(By.CLASS_NAME, 'post-footer'):\n",
    "        footer = footer.text\n",
    "    for element in driver.find_elements(By.CLASS_NAME, \"post-body > p > a\"):\n",
    "        uop.append(element.get_attribute('href'))\n",
    "    \n",
    "    ext_urls.append(uop)\n",
    "    content.append(re.sub(r'\\s+', ' ', post_body.replace(footer,'').replace('\\n',' ')))\n",
    "    uop = []\n",
    "    clear_output(wait=True)\n",
    "    print(url)\n",
    "    print(len(content), len(ext_urls))"
   ]
  },
  {
   "cell_type": "code",
   "execution_count": null,
   "id": "a8c1f0af",
   "metadata": {},
   "outputs": [],
   "source": [
    "driver.close()"
   ]
  },
  {
   "cell_type": "code",
   "execution_count": null,
   "id": "94f92cd1",
   "metadata": {},
   "outputs": [],
   "source": [
    "df1 = pd.DataFrame()\n",
    "df1['Дата'] = dates[:news_sum]\n",
    "df1['Раздел'] = 'Новости'\n",
    "df1['Заголовок'] = titles\n",
    "df1['Текст'] = content\n",
    "df1['Внешние ссылки'] = ext_urls\n",
    "df1['URL статьи'] = urls[:news_sum]"
   ]
  },
  {
   "cell_type": "code",
   "execution_count": null,
   "id": "52a31fdb",
   "metadata": {},
   "outputs": [],
   "source": [
    "# корректируем столбцы 'Текст' и 'Внешние ссылки'\n",
    "for column in list(df1)[3:5]:\n",
    "    df1 = flatten_column(df1,column)\n",
    "df1.head(3)"
   ]
  },
  {
   "cell_type": "code",
   "execution_count": null,
   "id": "0c0c599d",
   "metadata": {},
   "outputs": [],
   "source": [
    "file_name = base_url.split('/')[2].split('.')[0] +'.'+ base_url.split('/')[2].split('.')[1] + '_' + str(datetime.now().date()) + '.xlsx'\n",
    "with pd.ExcelWriter(file_name) as writer:\n",
    "    df1.to_excel(writer, sheet_name='Новости', index=False)"
   ]
  },
  {
   "cell_type": "code",
   "execution_count": null,
   "id": "98a63d75",
   "metadata": {},
   "outputs": [],
   "source": [
    "#обновление даты в файле aggregator.ini\n",
    "write_conf(FQDN)"
   ]
  },
  {
   "cell_type": "markdown",
   "id": "dc5137ba",
   "metadata": {},
   "source": [
    "---"
   ]
  }
 ],
 "metadata": {
  "kernelspec": {
   "display_name": "Python 3",
   "language": "python",
   "name": "python3"
  },
  "language_info": {
   "codemirror_mode": {
    "name": "ipython",
    "version": 3
   },
   "file_extension": ".py",
   "mimetype": "text/x-python",
   "name": "python",
   "nbconvert_exporter": "python",
   "pygments_lexer": "ipython3",
   "version": "3.8.8"
  }
 },
 "nbformat": 4,
 "nbformat_minor": 5
}
